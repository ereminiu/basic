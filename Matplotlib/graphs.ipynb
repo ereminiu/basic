{
 "cells": [
  {
   "cell_type": "code",
   "execution_count": 43,
   "id": "8e088b21",
   "metadata": {},
   "outputs": [
    {
     "data": {
      "image/png": "[encoded data removed]",
      "text/plain": [
       "<Figure size 432x288 with 1 Axes>"
      ]
     },
     "metadata": {
      "needs_background": "light"
     },
     "output_type": "display_data"
    }
   ],
   "source": [
    "import matplotlib.pyplot as plt \n",
    "import numpy as np\n",
    "%matplotlib inline\n",
    "\n",
    "def f(x):\n",
    "    ret = 0\n",
    "    for i in range(100):\n",
    "        cur = 1\n",
    "        for i in range(2*i+2):\n",
    "            cur *= x / max(1, i)\n",
    "        ret += cur * (-1)**i\n",
    "    return ret\n",
    "\n",
    "x = np.linspace(1, 100, 100)\n",
    "plt.plot(x, f(x))\n",
    "\n",
    "plt.show()"
   ]
  },
  {
   "cell_type": "code",
   "execution_count": null,
   "id": "933e1412",
   "metadata": {},
   "outputs": [],
   "source": []
  }
 ],
 "metadata": {
  "kernelspec": {
   "display_name": "Python 3 (ipykernel)",
   "language": "python",
   "name": "python3"
  },
  "language_info": {
   "codemirror_mode": {
    "name": "ipython",
    "version": 3
   },
   "file_extension": ".py",
   "mimetype": "text/x-python",
   "name": "python",
   "nbconvert_exporter": "python",
   "pygments_lexer": "ipython3",
   "version": "3.9.12"
  }
 },
 "nbformat": 4,
 "nbformat_minor": 5
}
