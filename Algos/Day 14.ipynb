{
 "cells": [
  {
   "cell_type": "code",
   "execution_count": 17,
   "id": "5fd287a3",
   "metadata": {},
   "outputs": [
    {
     "name": "stdout",
     "output_type": "stream",
     "text": [
      "3\n",
      "3\n",
      "2\n",
      "18\n"
     ]
    }
   ],
   "source": [
    "class Solution:\n",
    "    def longestPath(self, parent, s: str) -> int:\n",
    "        n = len(s)\n",
    "        gr = [[] for i in range(n)]\n",
    "        root = -1\n",
    "        for i in range(n):\n",
    "            if parent[i] != -1:\n",
    "                gr[i].append(parent[i])\n",
    "                gr[parent[i]].append(i)\n",
    "            else:\n",
    "                root = i\n",
    "        \n",
    "        dp = n * [0]\n",
    "        ans = 0\n",
    "        def dfs(u, prev):\n",
    "            dp[u] = 1\n",
    "            actual = []\n",
    "            for v in gr[u]:\n",
    "                if not dp[v]:\n",
    "                    dfs(v, u)\n",
    "                if v != prev and s[v] != s[u]:\n",
    "                    dp[u] = max(dp[u], dp[v]+1)\n",
    "                    actual.append(dp[v])\n",
    "            actual.sort(reverse=True)\n",
    "            nonlocal ans\n",
    "            if len(actual) > 1:\n",
    "                ans = max(ans, actual[0]+actual[1]+1)\n",
    "            else:\n",
    "                ans = max(ans, dp[u])\n",
    "            \n",
    "        dfs(root, -1)\n",
    "        \n",
    "        return ans\n",
    "\n",
    "print(Solution().longestPath(parent = [-1,0,0,1,1,2], s = \"abacbe\"))\n",
    "print(Solution().longestPath(parent = [-1,0,0,0], s = \"aabc\"))\n",
    "print(Solution().longestPath(parent = [-1,0,1], s = \"aab\"))\n",
    "print(Solution().longestPath(parent = [-1,159,58,91,160,65,10,91,9,58,143,66,145,18,143,32,152,108,145,0,154,46,146,148,144,133,58,107,87,144,64,28,46,87,14,14,121,110,119,152,74,14,14,120,159,9,19,100,9,75,156,127,48,154,140,64,158,8,43,46,27,31,34,74,99,32,45,105,100,32,27,112,9,43,60,8,97,45,2,86,49,35,160,77,111,138,145,152,59,87,9,125,70,20,59,47,91,58,65,43,120,29,86,69,77,15,101,138,7,153,138,56,132,37,122,43,33,62,95,91,46,103,34,63,115,2,132,86,86,9,26,110,8,87,58,30,103,93,43,45,46,143,30,87,97,115,8,58,125,10,152,10,2,107,141,108,37,32,43,69,100]\n",
    ", s = \"ofarlvkejasusszlxapxqmpecaduhuogzltxuclafjrbrvqtsidmmrjjespdupikvyopweptnjteylnixcjjfsubmhcekgbdorwihftfbtrqhzinccijwbpjaafkdplnjrydmkrluvdcmmoohwgkdmeuuqtsktbyl\"))"
   ]
  },
  {
   "cell_type": "code",
   "execution_count": null,
   "id": "db6dc43e",
   "metadata": {},
   "outputs": [],
   "source": []
  }
 ],
 "metadata": {
  "kernelspec": {
   "display_name": "Python 3 (ipykernel)",
   "language": "python",
   "name": "python3"
  },
  "language_info": {
   "codemirror_mode": {
    "name": "ipython",
    "version": 3
   },
   "file_extension": ".py",
   "mimetype": "text/x-python",
   "name": "python",
   "nbconvert_exporter": "python",
   "pygments_lexer": "ipython3",
   "version": "3.9.12"
  }
 },
 "nbformat": 4,
 "nbformat_minor": 5
}
