{
 "cells": [
  {
   "cell_type": "code",
   "execution_count": 18,
   "id": "d16d2e75",
   "metadata": {},
   "outputs": [
    {
     "name": "stdout",
     "output_type": "stream",
     "text": [
      "2 2 2 3 2 5 7 "
     ]
    }
   ],
   "source": [
    "class SegTree:\n",
    "    def __init__(self, n):\n",
    "        self.n = n\n",
    "        self.inf = 0\n",
    "        self.t = 4*self.n * [self.inf]\n",
    "    \n",
    "    def modify(self, v, vl, vr, idx, val):\n",
    "        if vl == vr-1:\n",
    "            self.t[v] = val\n",
    "            return\n",
    "        mid = (vl+vr) // 2\n",
    "        if idx < mid:\n",
    "            self.modify(2*v+1, vl, mid, idx, val)\n",
    "        else:\n",
    "            self.modify(2*v+2, mid, vr, idx, val)\n",
    "        self.t[v] = max(self.t[2*v+1], self.t[2*v+2])\n",
    "    \n",
    "    def getmx(self, v, vl, vr, l, r):\n",
    "        if l >= vr or r <= vl:\n",
    "            return self.inf\n",
    "        if vl >= l and vr <= r:\n",
    "            return self.t[v]\n",
    "        mid = (vl+vr) // 2\n",
    "        return max(self.getmx(2*v+1, vl, mid, l, r), self.getmx(2*v+2, mid, vr, l, r))\n",
    "    \n",
    "    def __repr__(self):\n",
    "        ret = ''\n",
    "        for i in range(n):\n",
    "            ret += repr(self.getmn(0, 0, self.n, i, i+1))+' '\n",
    "        return ret\n",
    "\n",
    "class StockSpanner:\n",
    "    def __init__(self):\n",
    "        self.MX = int(1e5+228)\n",
    "        self.st = SegTree(self.MX)\n",
    "        self.n = 1\n",
    "\n",
    "    def next(self, price: int) -> int:\n",
    "        self.st.modify(0, 0, self.MX, price, self.n)\n",
    "        self.n += 1\n",
    "        return self.n - self.st.getmx(0, 0, self.MX, price+1, self.MX) - 1\n",
    "            \n",
    "\n",
    "a = [100,80,60,70,60,75,85] #list(map(int, input().split()))\n",
    "spanner = StockSpanner()\n",
    "for nxt in a:\n",
    "    print(spanner.next(nxt), end=' ')"
   ]
  },
  {
   "cell_type": "code",
   "execution_count": null,
   "id": "abcae341",
   "metadata": {},
   "outputs": [],
   "source": []
  }
 ],
 "metadata": {
  "kernelspec": {
   "display_name": "Python 3 (ipykernel)",
   "language": "python",
   "name": "python3"
  },
  "language_info": {
   "codemirror_mode": {
    "name": "ipython",
    "version": 3
   },
   "file_extension": ".py",
   "mimetype": "text/x-python",
   "name": "python",
   "nbconvert_exporter": "python",
   "pygments_lexer": "ipython3",
   "version": "3.9.12"
  }
 },
 "nbformat": 4,
 "nbformat_minor": 5
}
