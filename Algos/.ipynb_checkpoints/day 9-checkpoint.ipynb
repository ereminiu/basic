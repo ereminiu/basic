{
 "cells": [
  {
   "cell_type": "code",
   "execution_count": 12,
   "id": "d16d2e75",
   "metadata": {},
   "outputs": [
    {
     "name": "stdout",
     "output_type": "stream",
     "text": [
      "1 "
     ]
    },
    {
     "ename": "AttributeError",
     "evalue": "'SegTree' object has no attribute 'getmn'",
     "output_type": "error",
     "traceback": [
      "\u001b[1;31m---------------------------------------------------------------------------\u001b[0m",
      "\u001b[1;31mAttributeError\u001b[0m                            Traceback (most recent call last)",
      "Input \u001b[1;32mIn [12]\u001b[0m, in \u001b[0;36m<cell line: 53>\u001b[1;34m()\u001b[0m\n\u001b[0;32m     52\u001b[0m spanner \u001b[38;5;241m=\u001b[39m StockSpanner()\n\u001b[0;32m     53\u001b[0m \u001b[38;5;28;01mfor\u001b[39;00m nxt \u001b[38;5;129;01min\u001b[39;00m a:\n\u001b[1;32m---> 54\u001b[0m     \u001b[38;5;28mprint\u001b[39m(\u001b[43mspanner\u001b[49m\u001b[38;5;241;43m.\u001b[39;49m\u001b[43mnext\u001b[49m\u001b[43m(\u001b[49m\u001b[43mnxt\u001b[49m\u001b[43m)\u001b[49m, end\u001b[38;5;241m=\u001b[39m\u001b[38;5;124m'\u001b[39m\u001b[38;5;124m \u001b[39m\u001b[38;5;124m'\u001b[39m)\n",
      "Input \u001b[1;32mIn [12]\u001b[0m, in \u001b[0;36mStockSpanner.next\u001b[1;34m(self, price)\u001b[0m\n\u001b[0;32m     42\u001b[0m \u001b[38;5;28;01mwhile\u001b[39;00m right\u001b[38;5;241m-\u001b[39mleft \u001b[38;5;241m>\u001b[39m \u001b[38;5;241m1\u001b[39m:\n\u001b[0;32m     43\u001b[0m     mid \u001b[38;5;241m=\u001b[39m (left\u001b[38;5;241m+\u001b[39mright) \u001b[38;5;241m/\u001b[39m\u001b[38;5;241m/\u001b[39m \u001b[38;5;241m2\u001b[39m\n\u001b[1;32m---> 44\u001b[0m     \u001b[38;5;28;01mif\u001b[39;00m \u001b[38;5;28;43mself\u001b[39;49m\u001b[38;5;241;43m.\u001b[39;49m\u001b[43mst\u001b[49m\u001b[38;5;241;43m.\u001b[39;49m\u001b[43mgetmn\u001b[49m(\u001b[38;5;241m0\u001b[39m, \u001b[38;5;241m0\u001b[39m, \u001b[38;5;28mself\u001b[39m\u001b[38;5;241m.\u001b[39mMX, mid, \u001b[38;5;28mself\u001b[39m\u001b[38;5;241m.\u001b[39mn) \u001b[38;5;241m>\u001b[39m price:\n\u001b[0;32m     45\u001b[0m         left \u001b[38;5;241m=\u001b[39m mid\n\u001b[0;32m     46\u001b[0m     \u001b[38;5;28;01melse\u001b[39;00m:\n",
      "\u001b[1;31mAttributeError\u001b[0m: 'SegTree' object has no attribute 'getmn'"
     ]
    }
   ],
   "source": [
    "class SegTree:\n",
    "    def __init__(self, n):\n",
    "        self.n = n\n",
    "        self.inf = -int(1e9+7)\n",
    "        self.t = 4*self.n * [self.inf]\n",
    "    \n",
    "    def modify(self, v, vl, vr, idx, val):\n",
    "        if vl == vr-1:\n",
    "            self.t[v] = val\n",
    "            return\n",
    "        mid = (vl+vr) // 2\n",
    "        if idx < mid:\n",
    "            self.modify(2*v+1, vl, mid, idx, val)\n",
    "        else:\n",
    "            self.modify(2*v+2, mid, vr, idx, val)\n",
    "        self.t[v] = max(self.t[2*v+1], self.t[2*v+2])\n",
    "    \n",
    "    def getmx(self, v, vl, vr, l, r):\n",
    "        if l >= vr or r <= vl:\n",
    "            return self.inf\n",
    "        if vl >= l and vr <= r:\n",
    "            return self.t[v]\n",
    "        mid = (vl+vr) // 2\n",
    "        return max(self.getmx(2*v+1, vl, mid, l, r), self.getmx(2*v+2, mid, vr, l, r))\n",
    "    \n",
    "    def __repr__(self):\n",
    "        ret = ''\n",
    "        for i in range(n):\n",
    "            ret += repr(self.getmn(0, 0, self.n, i, i+1))+' '\n",
    "        return ret\n",
    "\n",
    "class StockSpanner:\n",
    "    def __init__(self):\n",
    "        self.MX = int(1e4+228)\n",
    "        self.st = SegTree(self.MX)\n",
    "        self.n = 0\n",
    "\n",
    "    def next(self, price: int) -> int:\n",
    "        self.st.modify(0, 0, self.MX, self.n, price)\n",
    "        self.n += 1\n",
    "        left, right = -1, self.n-1\n",
    "        while right-left > 1:\n",
    "            mid = (left+right) // 2\n",
    "            if self.st.getmx(0, 0, self.MX, mid, self.n) > price:\n",
    "                left = mid\n",
    "            else:\n",
    "                right = mid\n",
    "        return self.n-right\n",
    "            \n",
    "\n",
    "a = [100,80,60,70,60,75,85] #list(map(int, input().split()))\n",
    "spanner = StockSpanner()\n",
    "for nxt in a:\n",
    "    print(spanner.next(nxt), end=' ')"
   ]
  },
  {
   "cell_type": "code",
   "execution_count": null,
   "id": "abcae341",
   "metadata": {},
   "outputs": [],
   "source": []
  }
 ],
 "metadata": {
  "kernelspec": {
   "display_name": "Python 3 (ipykernel)",
   "language": "python",
   "name": "python3"
  },
  "language_info": {
   "codemirror_mode": {
    "name": "ipython",
    "version": 3
   },
   "file_extension": ".py",
   "mimetype": "text/x-python",
   "name": "python",
   "nbconvert_exporter": "python",
   "pygments_lexer": "ipython3",
   "version": "3.9.12"
  }
 },
 "nbformat": 4,
 "nbformat_minor": 5
}
