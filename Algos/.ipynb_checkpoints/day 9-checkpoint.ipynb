{
 "cells": [
  {
   "cell_type": "code",
   "execution_count": 10,
   "id": "f9de65f4",
   "metadata": {},
   "outputs": [
    {
     "name": "stdout",
     "output_type": "stream",
     "text": [
      "suf = [100]\n",
      "0 suf = [100, 100]\n",
      "0 suf = [100, 100, 100]\n",
      "0 suf = [100, 100, 100, 100]\n",
      "0 suf = [100, 100, 100, 100, 100]\n",
      "0 suf = [100, 100, 100, 100, 100, 100]\n",
      "0 suf = [100, 100, 100, 100, 100, 100, 100]\n",
      "0 "
     ]
    }
   ],
   "source": [
    "class SegTree:\n",
    "    def __init__(self, n):\n",
    "        self.n = n\n",
    "        self.inf = int(1e9+7)\n",
    "        self.t = 4*self.n * [self.inf]\n",
    "    \n",
    "    def modify(self, v, vl, vr, idx, val):\n",
    "        if vl == vr-1:\n",
    "            self.t[v] = val\n",
    "            return\n",
    "        mid = (vl+vr) // 2\n",
    "        if idx < mid:\n",
    "            self.modify(2*v+1, vl, mid, idx, val)\n",
    "        else:\n",
    "            self.modify(2*v+2, mid, vr, idx, val)\n",
    "        self.t[v] = min(self.t[2*v+1], self.t[2*v+2])\n",
    "    \n",
    "    def getmn(self, v, vl, vr, l, r):\n",
    "        if l >= vr or r <= vl:\n",
    "            return self.inf\n",
    "        if vl >= l and vr <= r:\n",
    "            return self.t[v]\n",
    "        mid = (vl+vr) // 2\n",
    "        return min(self.getmn(2*v+1, vl, mid, l, r), self.getmn(2*v+2, mid, vr, l, r))\n",
    "    \n",
    "    def __repr__(self):\n",
    "        ret = ''\n",
    "        for i in range(n):\n",
    "            ret += repr(self.getmn(0, 0, self.n, i, i+1))+' '\n",
    "        return ret\n",
    "\n",
    "class StockSpanner:\n",
    "    def __init__(self):\n",
    "        self.suf = []\n",
    "\n",
    "    def next(self, price: int) -> int:\n",
    "        if len(self.suf) == 0:\n",
    "            self.suf.append(price)\n",
    "        else:\n",
    "            self.suf.append(max(self.suf[-1], price))\n",
    "        print(f'suf = {self.suf}')\n",
    "        left, right = -1, len(self.suf)-1\n",
    "        while right-left > 1:\n",
    "            mid = (left+right) // 2\n",
    "            if self.suf[mid] > price:\n",
    "                left = mid\n",
    "            else:\n",
    "                right = mid\n",
    "        return len(self.suf)-right-1\n",
    "\n",
    "a = [100,80,60,70,60,75,85] #list(map(int, input().split()))\n",
    "spanner = StockSpanner()\n",
    "for nxt in a:\n",
    "    print(spanner.next(nxt), end=' ')"
   ]
  },
  {
   "cell_type": "code",
   "execution_count": null,
   "id": "ef41d677",
   "metadata": {},
   "outputs": [],
   "source": []
  }
 ],
 "metadata": {
  "kernelspec": {
   "display_name": "Python 3 (ipykernel)",
   "language": "python",
   "name": "python3"
  },
  "language_info": {
   "codemirror_mode": {
    "name": "ipython",
    "version": 3
   },
   "file_extension": ".py",
   "mimetype": "text/x-python",
   "name": "python",
   "nbconvert_exporter": "python",
   "pygments_lexer": "ipython3",
   "version": "3.9.12"
  }
 },
 "nbformat": 4,
 "nbformat_minor": 5
}
