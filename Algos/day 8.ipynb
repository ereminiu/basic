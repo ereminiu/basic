{
 "cells": [
  {
   "cell_type": "code",
   "execution_count": 1,
   "id": "2fd8fb37",
   "metadata": {},
   "outputs": [
    {
     "name": "stdout",
     "output_type": "stream",
     "text": [
      "leetcode\n",
      "\n",
      "s\n"
     ]
    }
   ],
   "source": [
    "class Solution:\n",
    "    def makeGood(self, s: str) -> str:\n",
    "        def equal(ca, cb):\n",
    "            return ord(ca)-ord('a') == ord(cb)-ord('A') or ord(ca)-ord('A') == ord(cb)-ord('a')\n",
    "        \n",
    "        st = []\n",
    "        for c in s:\n",
    "            st.append(c)\n",
    "            if len(st) > 1 and equal(st[-1], st[len(st)-2]):\n",
    "                st.pop(); st.pop()\n",
    "        return ''.join(st)\n",
    "\n",
    "print(Solution().makeGood(s='leEeetcode'))\n",
    "print(Solution().makeGood(s='abBAcC'))\n",
    "print(Solution().makeGood(s='s'))"
   ]
  },
  {
   "cell_type": "code",
   "execution_count": null,
   "id": "9b850c77",
   "metadata": {},
   "outputs": [],
   "source": []
  }
 ],
 "metadata": {
  "kernelspec": {
   "display_name": "Python 3 (ipykernel)",
   "language": "python",
   "name": "python3"
  },
  "language_info": {
   "codemirror_mode": {
    "name": "ipython",
    "version": 3
   },
   "file_extension": ".py",
   "mimetype": "text/x-python",
   "name": "python",
   "nbconvert_exporter": "python",
   "pygments_lexer": "ipython3",
   "version": "3.9.12"
  }
 },
 "nbformat": 4,
 "nbformat_minor": 5
}
