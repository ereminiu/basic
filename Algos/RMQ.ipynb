{
 "cells": [
  {
   "cell_type": "code",
   "execution_count": 10,
   "id": "b6d010b2",
   "metadata": {},
   "outputs": [
    {
     "name": "stdout",
     "output_type": "stream",
     "text": [
      "1 1000000007 1000000007 1000000007 1000000007 1000000007 1000000007 1000000007 1000000007 1000000007 \n",
      "1000000007\n",
      "1 -1 12 1000000007 100 1000000007 1000000007 1000000007 1000000007 1000000007 \n"
     ]
    }
   ],
   "source": [
    "class SegTree:\n",
    "    def __init__(self, n):\n",
    "        self.n = n\n",
    "        self.inf = int(1e9+7)\n",
    "        self.t = 4*self.n * [self.inf]\n",
    "    \n",
    "    def modify(self, v, vl, vr, idx, val):\n",
    "        if vl == vr-1:\n",
    "            self.t[v] = val\n",
    "            return\n",
    "        mid = (vl+vr) // 2\n",
    "        if idx < mid:\n",
    "            self.modify(2*v+1, vl, mid, idx, val)\n",
    "        else:\n",
    "            self.modify(2*v+2, mid, vr, idx, val)\n",
    "        self.t[v] = min(self.t[2*v+1], self.t[2*v+2])\n",
    "    \n",
    "    def getmn(self, v, vl, vr, l, r):\n",
    "        if l >= vr or r <= vl:\n",
    "            return self.inf\n",
    "        if vl >= l and vr <= r:\n",
    "            return self.t[v]\n",
    "        mid = (vl+vr) // 2\n",
    "        return min(self.getmn(2*v+1, vl, mid, l, r), self.getmn(2*v+2, mid, vr, l, r))\n",
    "    \n",
    "    def __repr__(self):\n",
    "        ret = ''\n",
    "        for i in range(n):\n",
    "            ret += repr(self.getmn(0, 0, self.n, i, i+1))+' '\n",
    "        return ret"
   ]
  },
  {
   "cell_type": "code",
   "execution_count": null,
   "id": "8d5a6b4c",
   "metadata": {},
   "outputs": [],
   "source": []
  }
 ],
 "metadata": {
  "kernelspec": {
   "display_name": "Python 3 (ipykernel)",
   "language": "python",
   "name": "python3"
  },
  "language_info": {
   "codemirror_mode": {
    "name": "ipython",
    "version": 3
   },
   "file_extension": ".py",
   "mimetype": "text/x-python",
   "name": "python",
   "nbconvert_exporter": "python",
   "pygments_lexer": "ipython3",
   "version": "3.9.12"
  }
 },
 "nbformat": 4,
 "nbformat_minor": 5
}
