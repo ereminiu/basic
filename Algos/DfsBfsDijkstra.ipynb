{
 "cells": [
  {
   "cell_type": "code",
   "execution_count": 2,
   "id": "657e1ff2",
   "metadata": {},
   "outputs": [
    {
     "name": "stdout",
     "output_type": "stream",
     "text": [
      "2\n"
     ]
    }
   ],
   "source": [
    "from collections import deque\n",
    "import numpy as np\n",
    "\n",
    "class Bfs:\n",
    "    def __init__(self, gr):\n",
    "        self.gr = gr\n",
    "        self.n = len(gr)\n",
    "    \n",
    "    def shortestpath(self, x, y):\n",
    "        dq = deque()\n",
    "        dist = self.n * [np.inf]\n",
    "        dist[x] = 0\n",
    "        dq.append(x)\n",
    "        while dq:\n",
    "            u = dq.pop()\n",
    "            for v in self.gr[u]:\n",
    "                if dist[v] > dist[u]+1:\n",
    "                    dist[v] = dist[u]+1\n",
    "                    dq.append(v)\n",
    "        return dist[y]\n",
    "\n",
    "print(Bfs(gr=[[1, 2], [2, 4], [3], [4], []]).shortestpath(0, 4))"
   ]
  },
  {
   "cell_type": "code",
   "execution_count": null,
   "id": "cde4c846",
   "metadata": {},
   "outputs": [],
   "source": []
  }
 ],
 "metadata": {
  "kernelspec": {
   "display_name": "Python 3 (ipykernel)",
   "language": "python",
   "name": "python3"
  },
  "language_info": {
   "codemirror_mode": {
    "name": "ipython",
    "version": 3
   },
   "file_extension": ".py",
   "mimetype": "text/x-python",
   "name": "python",
   "nbconvert_exporter": "python",
   "pygments_lexer": "ipython3",
   "version": "3.9.12"
  }
 },
 "nbformat": 4,
 "nbformat_minor": 5
}
