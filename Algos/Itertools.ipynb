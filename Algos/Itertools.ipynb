{
 "cells": [
  {
   "cell_type": "code",
   "execution_count": 10,
   "id": "f1ab3ef6",
   "metadata": {},
   "outputs": [
    {
     "name": "stdout",
     "output_type": "stream",
     "text": [
      "[3, 4, 3]\n",
      "[1, 4, 9, 16]\n"
     ]
    }
   ],
   "source": [
    "a = [1, 2, 3, 4]\n",
    "more = [x*y for x in a for y in a if x+y == 4]\n",
    "print(more)\n",
    "\n",
    "def f(x):\n",
    "    return x*x\n",
    "\n",
    "b = [f(x) for x in a]\n",
    "print(b)"
   ]
  },
  {
   "cell_type": "code",
   "execution_count": 30,
   "id": "d5ae3caf",
   "metadata": {
    "scrolled": true
   },
   "outputs": [
    {
     "name": "stdout",
     "output_type": "stream",
     "text": [
      "[(1, 4), (1, 5), (1, 6), (2, 4), (2, 5), (2, 6), (3, 4), (3, 5), (3, 6)]\n",
      "[(1, 4), (1, 5), (1, 6), (2, 4), (2, 5), (2, 6), (3, 4), (3, 5), (3, 6)]\n"
     ]
    }
   ],
   "source": [
    "import itertools as itr\n",
    "\n",
    "def f(x): return x%2\n",
    "\n",
    "# a = [1, 2, 3, 4]\n",
    "# pref = list(itr.accumulate(a, f))\n",
    "# print(pref)\n",
    "\n",
    "a = list(itr.compress([1, 2, 4, 5], [1, 0, 0, 1]))\n",
    "\n",
    "p = [1, 2, 3]\n",
    "q = [4, 5, 6]\n",
    "a = list(itr.product(p, q))\n",
    "print(a)\n",
    "a = [(x, y) for x in p for y in q]\n",
    "print(a)\n",
    "# a = [(p[i], p[i+1]) for i in range(2)]"
   ]
  },
  {
   "cell_type": "code",
   "execution_count": null,
   "id": "e07c1038",
   "metadata": {},
   "outputs": [],
   "source": []
  }
 ],
 "metadata": {
  "kernelspec": {
   "display_name": "Python 3 (ipykernel)",
   "language": "python",
   "name": "python3"
  },
  "language_info": {
   "codemirror_mode": {
    "name": "ipython",
    "version": 3
   },
   "file_extension": ".py",
   "mimetype": "text/x-python",
   "name": "python",
   "nbconvert_exporter": "python",
   "pygments_lexer": "ipython3",
   "version": "3.9.12"
  }
 },
 "nbformat": 4,
 "nbformat_minor": 5
}
