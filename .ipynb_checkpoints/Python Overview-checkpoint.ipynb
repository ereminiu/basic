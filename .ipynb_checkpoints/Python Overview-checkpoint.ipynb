{
 "cells": [
  {
   "cell_type": "code",
   "execution_count": 3,
   "id": "cb41a877",
   "metadata": {},
   "outputs": [
    {
     "name": "stdout",
     "output_type": "stream",
     "text": [
      "[3, 5, 7]\n"
     ]
    }
   ],
   "source": [
    "def f(x, y):\n",
    "    return x+y\n",
    "\n",
    "a = [(1, 2), (2, 3), (3, 4)]\n",
    "\n",
    "b = [f(x, y) for x, y in a]\n",
    "print(b)"
   ]
  },
  {
   "cell_type": "code",
   "execution_count": 7,
   "id": "ca8f292f",
   "metadata": {},
   "outputs": [],
   "source": [
    "file = open('out.txt', 'w')\n",
    "\n",
    "file.write('aboba1')\n",
    "\n",
    "file.close()\n",
    "file = open('out.txt', 'w')\n",
    "file.write('aboba3')\n",
    "file.close()"
   ]
  },
  {
   "cell_type": "code",
   "execution_count": 8,
   "id": "5a52791d",
   "metadata": {},
   "outputs": [
    {
     "ename": "NameError",
     "evalue": "name 'almost_double_factoria' is not defined",
     "output_type": "error",
     "traceback": [
      "\u001b[1;31m---------------------------------------------------------------------------\u001b[0m",
      "\u001b[1;31mNameError\u001b[0m                                 Traceback (most recent call last)",
      "Input \u001b[1;32mIn [8]\u001b[0m, in \u001b[0;36m<cell line: 7>\u001b[1;34m()\u001b[0m\n\u001b[0;32m      4\u001b[0m         res \u001b[38;5;241m*\u001b[39m\u001b[38;5;241m=\u001b[39m i\n\u001b[0;32m      5\u001b[0m     \u001b[38;5;28;01mreturn\u001b[39;00m res\n\u001b[1;32m----> 7\u001b[0m \u001b[38;5;28mprint\u001b[39m(almost_double_factorial(\u001b[38;5;241m1\u001b[39m), \u001b[43malmost_double_factoria\u001b[49m(\u001b[38;5;241m5\u001b[39m), almost_double_factorial(\u001b[38;5;241m14\u001b[39m))\n",
      "\u001b[1;31mNameError\u001b[0m: name 'almost_double_factoria' is not defined"
     ]
    }
   ],
   "source": [
    "def almost_double_factorial(n):\n",
    "    res = 1\n",
    "    for i in range(1, n, 2):\n",
    "        res *= i\n",
    "    return res\n",
    "\n",
    "print(almost_double_factorial(1), almost_double_factorial(5), almost_double_factorial(14))"
   ]
  },
  {
   "cell_type": "code",
   "execution_count": null,
   "id": "23fb7c86",
   "metadata": {},
   "outputs": [],
   "source": []
  }
 ],
 "metadata": {
  "kernelspec": {
   "display_name": "Python 3 (ipykernel)",
   "language": "python",
   "name": "python3"
  },
  "language_info": {
   "codemirror_mode": {
    "name": "ipython",
    "version": 3
   },
   "file_extension": ".py",
   "mimetype": "text/x-python",
   "name": "python",
   "nbconvert_exporter": "python",
   "pygments_lexer": "ipython3",
   "version": "3.9.12"
  }
 },
 "nbformat": 4,
 "nbformat_minor": 5
}
