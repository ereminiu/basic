{
 "cells": [
  {
   "cell_type": "code",
   "execution_count": 15,
   "id": "1aea8f9e",
   "metadata": {},
   "outputs": [],
   "source": [
    "from collections import Counter\n",
    "\n",
    "class Solution:\n",
    "    def longestPalindrome(self, words) -> int:\n",
    "        counter = Counter()\n",
    "        for s in words:\n",
    "            counter[s] += 1\n",
    "        w = set(words)\n",
    "        odd = 0\n",
    "        ans = 0\n",
    "        for s in w:\n",
    "            if s == s[::-1]:\n",
    "                ans += 2*(counter[s] - counter[s]%2)\n",
    "                if counter[s] % 2:\n",
    "                    odd = 1\n",
    "            else:\n",
    "                ans += 2*min(counter[s], counter[s[::-1]])\n",
    "        return ans + 2*odd\n",
    "\n",
    "# print(Solution().longestPalindrome(words=[\"lc\",\"cl\",\"gg\"]))\n",
    "# print(Solution().longestPalindrome(words=[\"ab\",\"ty\",\"yt\",\"lc\",\"cl\",\"ab\"]))\n",
    "# print(Solution().longestPalindrome(words=[\"cc\",\"ll\",\"xx\"]))\n",
    "# print(Solution().longestPalindrome(words=[\"dd\",\"aa\",\"bb\",\"dd\",\"aa\",\"dd\",\"bb\",\"dd\",\"aa\",\"cc\",\"bb\",\"cc\",\"dd\",\"cc\"]))"
   ]
  },
  {
   "cell_type": "code",
   "execution_count": 6,
   "id": "1ab11b30",
   "metadata": {},
   "outputs": [
    {
     "name": "stdout",
     "output_type": "stream",
     "text": [
      "bb 3\n",
      "cc 3\n",
      "dd 5\n",
      "aa 3\n"
     ]
    }
   ],
   "source": [
    "w = [\"dd\",\"aa\",\"bb\",\"dd\",\"aa\",\"dd\",\"bb\",\"dd\",\"aa\",\"cc\",\"bb\",\"cc\",\"dd\",\"cc\"]\n",
    "for s in set(w):\n",
    "    print(s, w.count(s))"
   ]
  }
 ],
 "metadata": {
  "kernelspec": {
   "display_name": "Python 3 (ipykernel)",
   "language": "python",
   "name": "python3"
  },
  "language_info": {
   "codemirror_mode": {
    "name": "ipython",
    "version": 3
   },
   "file_extension": ".py",
   "mimetype": "text/x-python",
   "name": "python",
   "nbconvert_exporter": "python",
   "pygments_lexer": "ipython3",
   "version": "3.9.12"
  }
 },
 "nbformat": 4,
 "nbformat_minor": 5
}
