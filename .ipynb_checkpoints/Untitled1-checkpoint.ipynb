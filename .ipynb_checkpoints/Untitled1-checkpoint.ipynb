{
 "cells": [
  {
   "cell_type": "code",
   "execution_count": 16,
   "id": "93702308",
   "metadata": {},
   "outputs": [
    {
     "name": "stdout",
     "output_type": "stream",
     "text": [
      "[[ -5.  -3.  23.]\n",
      " [ -3. -14.  26.]\n",
      " [ 20.  12. -31.]]\n",
      "[[61  0  0]\n",
      " [ 0 61  0]\n",
      " [ 0  0 61]]\n"
     ]
    }
   ],
   "source": [
    "import numpy as np\n",
    "\n",
    "# dx = np.linalg.det([[12, 3, 4], [-33, -5, 1], [-7, 0, 1]])\n",
    "# print(dx)\n",
    "print(61 * np.linalg.inv([[2, 3, 4], [7, -5, 1], [4, 0, 1]]))"
   ]
  },
  {
   "cell_type": "code",
   "execution_count": null,
   "id": "3d0ea6dd",
   "metadata": {},
   "outputs": [],
   "source": []
  }
 ],
 "metadata": {
  "kernelspec": {
   "display_name": "Python 3 (ipykernel)",
   "language": "python",
   "name": "python3"
  },
  "language_info": {
   "codemirror_mode": {
    "name": "ipython",
    "version": 3
   },
   "file_extension": ".py",
   "mimetype": "text/x-python",
   "name": "python",
   "nbconvert_exporter": "python",
   "pygments_lexer": "ipython3",
   "version": "3.9.12"
  }
 },
 "nbformat": 4,
 "nbformat_minor": 5
}
