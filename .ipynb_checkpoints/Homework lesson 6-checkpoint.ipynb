{
 "cells": [
  {
   "cell_type": "code",
   "execution_count": 12,
   "id": "13172b83",
   "metadata": {},
   "outputs": [
    {
     "name": "stdout",
     "output_type": "stream",
     "text": [
      "Ok, all tests passed\n"
     ]
    }
   ],
   "source": [
    "import numpy as np\n",
    "\n",
    "def no_numpy_mult(first, second):\n",
    "    \"\"\"\n",
    "    param first: list of \"size\" lists, each contains \"size\" floats\n",
    "    param second: list of \"size\" lists, each contains \"size\" floats\n",
    "    \"\"\"\n",
    "\n",
    "    M, K = len(first), len(second[0])\n",
    "    result = [[0 for x in range(K)] for y in range(M)]\n",
    "    for i in range(M):\n",
    "        for j in range(K):\n",
    "            res = 0\n",
    "            for k in range(len(first[i])):\n",
    "                res += first[i][k] * second[k][j]\n",
    "            result[i][j] = res\n",
    "    \n",
    "    return result\n",
    "\n",
    "def numpy_mult(first, second):\n",
    "    \"\"\"\n",
    "    param first: np.array[size, size]\n",
    "    param second: np.array[size, size]\n",
    "    \"\"\"\n",
    "    \n",
    "    return np.matmul(first, second)\n",
    "\n",
    "for tt in range(100):\n",
    "    np.random.seed(tt+228)\n",
    "    \n",
    "    N = 3\n",
    "    a = [[np.random.randint(1, 10) for x in range(N)] for y in range(N)]\n",
    "    b = [[np.random.randint(1, 10) for x in range(N)] for y in range(N)]\n",
    "\n",
    "    M1 = no_numpy_mult(a, b)\n",
    "    M2 = numpy_mult(np.array(a), np.array(b))\n",
    "\n",
    "#     print(np.allclose(np.array(M1), M2))\n",
    "    assert np.allclose(np.array(M1), M2)\n",
    "\n",
    "print('Ok, all tests passed')"
   ]
  },
  {
   "cell_type": "code",
   "execution_count": 58,
   "id": "962a135b",
   "metadata": {},
   "outputs": [
    {
     "name": "stdout",
     "output_type": "stream",
     "text": [
      "[[  2   1   3   4   5 125   1  27   1   8]]\n"
     ]
    }
   ],
   "source": [
    "import numpy as np\n",
    "\n",
    "def transform(X, a=1):\n",
    "    \"\"\"\n",
    "    param X: np.array[batch_size, n]\n",
    "    \"\"\"\n",
    "    Y = X.copy()\n",
    "    Y[:, 1::2] = a\n",
    "    Y[:, ::2] **= 3\n",
    "    return np.concatenate((X, Y[:, ::-1]), 1)\n",
    "\n",
    "x = np.array([[2,1,3,4,5]])\n",
    "print(transform(x))"
   ]
  },
  {
   "cell_type": "code",
   "execution_count": 48,
   "id": "08f5b98f",
   "metadata": {},
   "outputs": [
    {
     "name": "stdout",
     "output_type": "stream",
     "text": [
      "[[3 2 1]\n",
      " [6 4 2]]\n"
     ]
    }
   ],
   "source": [
    "a = np.array([[1, 2, 3], \n",
    "              [2, 4, 6]])\n",
    "b = np.array([[2, 3, 4], \n",
    "              [8, 7, 2]])\n",
    "\n",
    "print(a[:, ::-1])\n",
    "# print(np.concatenate((a, b), 1))"
   ]
  },
  {
   "cell_type": "code",
   "execution_count": 61,
   "id": "dc5870a3",
   "metadata": {},
   "outputs": [
    {
     "name": "stdout",
     "output_type": "stream",
     "text": [
      "(array([1, 2, 3, 1, 5, 2, 3]), array([1, 2, 2, 2, 2, 1, 2]))\n"
     ]
    }
   ],
   "source": [
    "def encode(a):\n",
    "    ans, count = [], []\n",
    "    prev = np.min(a)-11\n",
    "    for x in a:\n",
    "        if x != prev:\n",
    "            ans.append(x)\n",
    "            count.append(1)\n",
    "        else:\n",
    "            count[-1] += 1\n",
    "        prev = x\n",
    "    return (np.array(ans), np.array(count))\n",
    "\n",
    "print(encode([1, 2, 2, 3, 3, 1, 1, 5, 5, 2, 3, 3]))"
   ]
  },
  {
   "cell_type": "code",
   "execution_count": null,
   "id": "c4aeddf1",
   "metadata": {},
   "outputs": [],
   "source": []
  }
 ],
 "metadata": {
  "kernelspec": {
   "display_name": "Python 3 (ipykernel)",
   "language": "python",
   "name": "python3"
  },
  "language_info": {
   "codemirror_mode": {
    "name": "ipython",
    "version": 3
   },
   "file_extension": ".py",
   "mimetype": "text/x-python",
   "name": "python",
   "nbconvert_exporter": "python",
   "pygments_lexer": "ipython3",
   "version": "3.9.12"
  }
 },
 "nbformat": 4,
 "nbformat_minor": 5
}
