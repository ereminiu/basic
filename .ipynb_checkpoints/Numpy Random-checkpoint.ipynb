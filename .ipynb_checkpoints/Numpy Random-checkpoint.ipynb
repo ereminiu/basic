{
 "cells": [
  {
   "cell_type": "code",
   "execution_count": 11,
   "id": "d369faba",
   "metadata": {},
   "outputs": [
    {
     "name": "stdout",
     "output_type": "stream",
     "text": [
      "[[10  4  3 11 11  7  1  8  7 10]\n",
      " [ 7 11  7 10  6  5  6  5  7  1]\n",
      " [ 3  9  1  6  5  7  3 11  2 11]\n",
      " [ 5  6  1  2  5  4  4  5 10  1]\n",
      " [ 2  8  4 11  2  9 10  1 11  4]\n",
      " [10  4  5  9  3  7 10  2  9  1]\n",
      " [10  3  6  9  2  1  4  6  5  9]\n",
      " [ 4  8 10  9  5  1  8 10  4  5]\n",
      " [ 8  8 10  4  6  9  4 10  8 11]\n",
      " [ 6 10 10  5 11 10  3  6 10 11]\n",
      " [11  9  3  3  8  3  4  7  7  3]\n",
      " [ 4  3  5 10  6  7  4 11 11  1]]\n"
     ]
    }
   ],
   "source": [
    "import numpy as np\n",
    "import numpy.random as rng\n",
    "\n",
    "mt = np.random.rand(3, 3)\n",
    "r = rng.randint(1, 12, size=(12, 10), dtype=int)\n",
    "print(r, sep='\\t')"
   ]
  },
  {
   "cell_type": "code",
   "execution_count": 5,
   "id": "5bea389b",
   "metadata": {},
   "outputs": [
    {
     "name": "stdout",
     "output_type": "stream",
     "text": [
      "0.4545454545454549\n"
     ]
    }
   ],
   "source": [
    "sum = 5/6*1/6\n",
    "for i in range(3, 100000, 2):\n",
    "    x = ((5/6) ** i) * 1/6\n",
    "    sum += x\n",
    "print(sum)"
   ]
  },
  {
   "cell_type": "code",
   "execution_count": null,
   "id": "28f51f54",
   "metadata": {},
   "outputs": [],
   "source": []
  }
 ],
 "metadata": {
  "kernelspec": {
   "display_name": "Python 3 (ipykernel)",
   "language": "python",
   "name": "python3"
  },
  "language_info": {
   "codemirror_mode": {
    "name": "ipython",
    "version": 3
   },
   "file_extension": ".py",
   "mimetype": "text/x-python",
   "name": "python",
   "nbconvert_exporter": "python",
   "pygments_lexer": "ipython3",
   "version": "3.9.12"
  }
 },
 "nbformat": 4,
 "nbformat_minor": 5
}
