{
 "cells": [
  {
   "cell_type": "code",
   "execution_count": 2,
   "id": "05f3d0e8",
   "metadata": {},
   "outputs": [
    {
     "name": "stdout",
     "output_type": "stream",
     "text": [
      "[[ 0.23076923 -0.19230769  0.03846154]\n",
      " [ 0.30769231  0.07692308 -0.61538462]\n",
      " [-0.46153846 -0.11538462  1.42307692]]\n"
     ]
    }
   ],
   "source": [
    "import numpy as np\n",
    "\n",
    "a = [[1, 7, 3], [-4, 9, 4], [0, 3, 2]]\n",
    "b = [[6, 5, 2], [1, 9, 2], [4, 5, 2]]\n",
    "print(np.linalg.det(a) * np.linalg.inv(a))"
   ]
  },
  {
   "cell_type": "code",
   "execution_count": null,
   "id": "5e8b652a",
   "metadata": {},
   "outputs": [],
   "source": []
  }
 ],
 "metadata": {
  "kernelspec": {
   "display_name": "Python 3 (ipykernel)",
   "language": "python",
   "name": "python3"
  },
  "language_info": {
   "codemirror_mode": {
    "name": "ipython",
    "version": 3
   },
   "file_extension": ".py",
   "mimetype": "text/x-python",
   "name": "python",
   "nbconvert_exporter": "python",
   "pygments_lexer": "ipython3",
   "version": "3.9.12"
  }
 },
 "nbformat": 4,
 "nbformat_minor": 5
}
