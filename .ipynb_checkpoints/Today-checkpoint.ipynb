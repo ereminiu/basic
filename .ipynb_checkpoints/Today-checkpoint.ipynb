{
 "cells": [
  {
   "cell_type": "code",
   "execution_count": 13,
   "id": "e874b8e7",
   "metadata": {},
   "outputs": [
    {
     "name": "stdout",
     "output_type": "stream",
     "text": [
      "[[26  0  0]\n",
      " [ 0 26  0]\n",
      " [ 0  0 26]]\n"
     ]
    }
   ],
   "source": [
    "class Solution:\n",
    "    def earliestFullBloom(self, plantTime, growTime) -> int:\n",
    "        cur, res = 0, 0\n",
    "        \n",
    "        def f(i): \n",
    "            return -growTime[i]\n",
    "        \n",
    "        order = sorted(range(len(plantTime)), key=f())\n",
    "        for i in order:\n",
    "            cur += plantTime[i]\n",
    "            res = max(res, cur+growTime[i])\n",
    "        return res"
   ]
  },
  {
   "cell_type": "code",
   "execution_count": null,
   "id": "6672f29b",
   "metadata": {},
   "outputs": [],
   "source": []
  }
 ],
 "metadata": {
  "kernelspec": {
   "display_name": "Python 3 (ipykernel)",
   "language": "python",
   "name": "python3"
  },
  "language_info": {
   "codemirror_mode": {
    "name": "ipython",
    "version": 3
   },
   "file_extension": ".py",
   "mimetype": "text/x-python",
   "name": "python",
   "nbconvert_exporter": "python",
   "pygments_lexer": "ipython3",
   "version": "3.9.12"
  }
 },
 "nbformat": 4,
 "nbformat_minor": 5
}
