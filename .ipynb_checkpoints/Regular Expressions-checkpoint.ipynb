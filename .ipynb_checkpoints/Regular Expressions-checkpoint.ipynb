{
 "cells": [
  {
   "cell_type": "code",
   "execution_count": 17,
   "id": "78500ad1",
   "metadata": {},
   "outputs": [
    {
     "name": "stdout",
     "output_type": "stream",
     "text": [
      "['$1 ', '$2 ', '$3 ']\n",
      "[0.5, 1.0, 1.5]\n"
     ]
    }
   ],
   "source": [
    "import re\n",
    "\n",
    "s = '$1 $5aboba 5$ $2 $3'\n",
    "s += ' '\n",
    "\n",
    "price = re.findall(r'\\B\\$\\d{1,10} ', s)\n",
    "print(price)\n",
    "discount = 50\n",
    "new_price = [int(p[1:]) * (100-discount)/100 for p in price]\n",
    "print(new_price)"
   ]
  },
  {
   "cell_type": "code",
   "execution_count": 52,
   "id": "360ddcdf",
   "metadata": {},
   "outputs": [
    {
     "name": "stdout",
     "output_type": "stream",
     "text": [
      " duew$11mengf $8 $1 \n",
      " duew$0.931mengf $7.44 $1 \n"
     ]
    }
   ],
   "source": [
    "import re\n",
    "\n",
    "class Solution:\n",
    "    def discountPrices(self, sentence: str, discount: int) -> str:\n",
    "        \n",
    "        def toFixed(f: float, n=0):\n",
    "            a, b = str(f).split('.')\n",
    "            return '{}.{}{}'.format(a, b[:n], '0'*(n-len(b)))\n",
    "        \n",
    "        sentence = ' ' + sentence + ' '\n",
    "        print(sentence)\n",
    "        ans = sentence\n",
    "        price = re.findall(r'(?<= [$])(\\d+)(?= )', sentence)\n",
    "        new_price = [int(p) * (100-discount)/100 for p in price]\n",
    "        n = len(price)\n",
    "        for i in range(n):\n",
    "            s = '$' + toFixed(new_price[i], 2)\n",
    "            ans = ans.replace('$'+price[i], s, 1)\n",
    "        return ans\n",
    "\n",
    "# print(Solution().discountPrices(sentence = \"$$1\", discount = 64))\n",
    "# print(Solution().discountPrices(sentence = \"$7383692 5q $5870426\", discount = 64))\n",
    "print(Solution().discountPrices(sentence = \"duew$11mengf $8 $1\", discount = 7))"
   ]
  },
  {
   "cell_type": "code",
   "execution_count": null,
   "id": "d7825ac7",
   "metadata": {},
   "outputs": [],
   "source": [
    "from collections import Counter\n",
    "\n",
    "class Solution:\n",
    "    def checkSubarraySum(self, nums, k: int) -> bool:\n",
    "        counter = Counter()\n",
    "        counter[0] = 0\n",
    "        sum = 0\n",
    "        for i in range(len(nums)):\n",
    "            sum += nums[i]\n",
    "            if sum % k not in counter:\n",
    "                counter[sum%k] = i+1\n",
    "            elif counter[sum%k] < i:\n",
    "                return True\n",
    "        return False"
   ]
  }
 ],
 "metadata": {
  "kernelspec": {
   "display_name": "Python 3 (ipykernel)",
   "language": "python",
   "name": "python3"
  },
  "language_info": {
   "codemirror_mode": {
    "name": "ipython",
    "version": 3
   },
   "file_extension": ".py",
   "mimetype": "text/x-python",
   "name": "python",
   "nbconvert_exporter": "python",
   "pygments_lexer": "ipython3",
   "version": "3.9.12"
  }
 },
 "nbformat": 4,
 "nbformat_minor": 5
}
